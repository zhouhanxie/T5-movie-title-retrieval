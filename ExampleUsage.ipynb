{
 "cells": [
  {
   "cell_type": "markdown",
   "id": "611dfa32",
   "metadata": {},
   "source": [
    "### Basic Usage"
   ]
  },
  {
   "cell_type": "code",
   "execution_count": 1,
   "id": "2c580477",
   "metadata": {},
   "outputs": [
    {
     "name": "stderr",
     "output_type": "stream",
     "text": [
      "/home/zhouhang/miniconda3/envs/transformers/lib/python3.8/site-packages/tqdm/auto.py:22: TqdmWarning: IProgress not found. Please update jupyter and ipywidgets. See https://ipywidgets.readthedocs.io/en/stable/user_install.html\n",
      "  from .autonotebook import tqdm as notebook_tqdm\n",
      "Loading checkpoint shards: 100%|██████████| 2/2 [00:04<00:00,  2.03s/it]\n",
      "/home/zhouhang/miniconda3/envs/transformers/lib/python3.8/site-packages/transformers/generation/utils.py:1273: UserWarning: Neither `max_length` nor `max_new_tokens` has been set, `max_length` will default to 20 (`generation_config.max_length`). Controlling `max_length` via the config is deprecated and `max_length` will be removed from the config in v5 of Transformers -- we recommend using `max_new_tokens` to control the maximum length of the generation.\n",
      "  warnings.warn(\n"
     ]
    },
    {
     "data": {
      "text/plain": [
       "[{'raw_text': 'I love 007 skrfall! Gone With the Wind is good too but I still prefer skyfal.',\n",
       "  'extracted': 'Skyfall, Gone With the Wind'}]"
      ]
     },
     "execution_count": 1,
     "metadata": {},
     "output_type": "execute_result"
    }
   ],
   "source": [
    "from t5_movie_extractor import T5MovieExtractor\n",
    "extractor = T5MovieExtractor('./checkpoints/generative_movie_title_ner')\n",
    "extractor(\n",
    "        ['I love 007 skrfall! Gone With the Wind is good too but I still prefer skyfal.'],\n",
    "        batch_size=2,\n",
    "        on_error='raise',\n",
    "        disable_tqdm=True\n",
    "    )"
   ]
  },
  {
   "cell_type": "code",
   "execution_count": 2,
   "id": "d08ca00e",
   "metadata": {},
   "outputs": [
    {
     "data": {
      "text/plain": [
       "[Mention(surface:skrfall, root: skyfall, pos: 11),\n",
       " Mention(surface:gone with the wind, root: gone with the wind, pos: 20),\n",
       " Mention(surface:skyfal., root: skyfall, pos: 70)]"
      ]
     },
     "execution_count": 2,
     "metadata": {},
     "output_type": "execute_result"
    }
   ],
   "source": [
    "from fuzzy_matching_utils import filter_set, fuzzy_findall\n",
    "\n",
    "cleaned_text = 'I love 007 skrfall! Gone With the Wind is good too but I still prefer skyfal.'.lower()\n",
    "candidates = [i.strip() for i in 'Skyfall, Gone With the Wind'.lower().split(',')]\n",
    "\n",
    "mentions = fuzzy_findall(candidates, cleaned_text)\n",
    "mentions"
   ]
  },
  {
   "cell_type": "code",
   "execution_count": 3,
   "id": "604e95ce",
   "metadata": {},
   "outputs": [
    {
     "data": {
      "text/plain": [
       "('i love 007 <movie>! <movie> is good too but i still prefer <movie>',\n",
       " ['skyfall', 'gone with the wind', 'skyfall'])"
      ]
     },
     "execution_count": 3,
     "metadata": {},
     "output_type": "execute_result"
    }
   ],
   "source": [
    "detected_movies = []\n",
    "output_text = cleaned_text\n",
    "for mention in mentions:\n",
    "    output_text = output_text.replace(mention.surface, '<movie>')\n",
    "    detected_movies.append(mention.root)\n",
    "output_text, detected_movies"
   ]
  },
  {
   "cell_type": "code",
   "execution_count": null,
   "id": "5b26116d",
   "metadata": {},
   "outputs": [],
   "source": []
  }
 ],
 "metadata": {
  "kernelspec": {
   "display_name": "Python 3 (ipykernel)",
   "language": "python",
   "name": "python3"
  },
  "language_info": {
   "codemirror_mode": {
    "name": "ipython",
    "version": 3
   },
   "file_extension": ".py",
   "mimetype": "text/x-python",
   "name": "python",
   "nbconvert_exporter": "python",
   "pygments_lexer": "ipython3",
   "version": "3.8.0"
  }
 },
 "nbformat": 4,
 "nbformat_minor": 5
}
