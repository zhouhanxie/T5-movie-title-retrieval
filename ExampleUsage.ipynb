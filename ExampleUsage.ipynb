{
 "cells": [
  {
   "cell_type": "code",
   "execution_count": 1,
   "id": "4caea8e1",
   "metadata": {},
   "outputs": [
    {
     "name": "stderr",
     "output_type": "stream",
     "text": [
      "/home/zhouhang/miniconda3/envs/transformers/lib/python3.8/site-packages/tqdm/auto.py:22: TqdmWarning: IProgress not found. Please update jupyter and ipywidgets. See https://ipywidgets.readthedocs.io/en/stable/user_install.html\n",
      "  from .autonotebook import tqdm as notebook_tqdm\n"
     ]
    }
   ],
   "source": [
    "import transformers\n",
    "from transformers import AutoModelForSeq2SeqLM, AutoTokenizer"
   ]
  },
  {
   "cell_type": "code",
   "execution_count": 3,
   "id": "101122b2",
   "metadata": {},
   "outputs": [
    {
     "name": "stderr",
     "output_type": "stream",
     "text": [
      "Loading checkpoint shards: 100%|██████████| 2/2 [00:03<00:00,  1.94s/it]\n"
     ]
    }
   ],
   "source": [
    "base_model_name_or_path = './checkpoints/generative_movie_title_ner/checkpoint-900'\n",
    "tokenizer = AutoTokenizer.from_pretrained(base_model_name_or_path)\n",
    "model = AutoModelForSeq2SeqLM.from_pretrained(base_model_name_or_path)"
   ]
  },
  {
   "cell_type": "markdown",
   "id": "611dfa32",
   "metadata": {},
   "source": [
    "### Basic Usage"
   ]
  },
  {
   "cell_type": "code",
   "execution_count": 131,
   "id": "f8f9de77",
   "metadata": {},
   "outputs": [],
   "source": [
    "prompt = \"\"\"Perform entity recognition and extract movie titles from the following text: \\n\"\"\"\n",
    "text = \"\"\"who directed the pirates of the carribean movie\"\"\""
   ]
  },
  {
   "cell_type": "code",
   "execution_count": 132,
   "id": "ed7ccf71",
   "metadata": {},
   "outputs": [
    {
     "name": "stderr",
     "output_type": "stream",
     "text": [
      "/home/zhouhang/miniconda3/envs/transformers/lib/python3.8/site-packages/transformers/generation/utils.py:1273: UserWarning: Neither `max_length` nor `max_new_tokens` has been set, `max_length` will default to 20 (`generation_config.max_length`). Controlling `max_length` via the config is deprecated and `max_length` will be removed from the config in v5 of Transformers -- we recommend using `max_new_tokens` to control the maximum length of the generation.\n",
      "  warnings.warn(\n"
     ]
    },
    {
     "name": "stdout",
     "output_type": "stream",
     "text": [
      "['Pirates of the Caribbean']\n"
     ]
    }
   ],
   "source": [
    "import torch\n",
    "with torch.no_grad():\n",
    "    inputs = tokenizer(prompt+text.replace('\\n',''), return_tensors=\"pt\")\n",
    "    outputs = model.generate(**inputs)\n",
    "    print(tokenizer.batch_decode(outputs, skip_special_tokens=True))"
   ]
  },
  {
   "cell_type": "markdown",
   "id": "e20b6004",
   "metadata": {},
   "source": [
    "### Batched Usage on GPU"
   ]
  },
  {
   "cell_type": "code",
   "execution_count": 137,
   "id": "0ca9a298",
   "metadata": {},
   "outputs": [],
   "source": [
    "import torch\n",
    "device = torch.device('cuda')\n",
    "model = model.to(device)\n",
    "texts = [\"\"\"who directed the pirates of the carribean movie\"\"\", \"I love Police Academy 2, too!\", 'some random stuff...']"
   ]
  },
  {
   "cell_type": "code",
   "execution_count": 138,
   "id": "2c580477",
   "metadata": {},
   "outputs": [
    {
     "data": {
      "text/plain": [
       "['James Cameron', 'Police Academy 2', 'None']"
      ]
     },
     "execution_count": 138,
     "metadata": {},
     "output_type": "execute_result"
    }
   ],
   "source": [
    "encoding = tokenizer(texts, padding=True, return_tensors='pt').to(device)\n",
    "with torch.no_grad():\n",
    "    generated_ids = model.generate(**encoding)\n",
    "generated_texts = tokenizer.batch_decode(generated_ids, skip_special_tokens=True)\n",
    "generated_texts"
   ]
  }
 ],
 "metadata": {
  "kernelspec": {
   "display_name": "Python 3",
   "language": "python",
   "name": "python3"
  },
  "language_info": {
   "codemirror_mode": {
    "name": "ipython",
    "version": 3
   },
   "file_extension": ".py",
   "mimetype": "text/x-python",
   "name": "python",
   "nbconvert_exporter": "python",
   "pygments_lexer": "ipython3",
   "version": "3.8.16"
  }
 },
 "nbformat": 4,
 "nbformat_minor": 5
}
